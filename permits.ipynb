{
 "cells": [
  {
   "cell_type": "code",
   "execution_count": 1,
   "id": "08d8fc4f-dd7e-4742-8195-773120feb19c",
   "metadata": {},
   "outputs": [],
   "source": [
    "from bs4 import BeautifulSoup\n",
    "import requests\n",
    "from splinter import Browser\n",
    "import pandas as pd\n",
    "import numpy as np\n",
    "import time\n",
    "import requests\n",
    "import pymongo\n",
    "from pymongo import MongoClient\n",
    "import datetime"
   ]
  },
  {
   "cell_type": "code",
   "execution_count": 2,
   "id": "f546e657-ca98-4656-aa70-f1a090413387",
   "metadata": {},
   "outputs": [],
   "source": [
    "permit_csv = 'permitsbyus.csv'"
   ]
  },
  {
   "cell_type": "code",
   "execution_count": 3,
   "id": "7fdffc99-bfb5-4a26-ac0e-15066fbd5e0d",
   "metadata": {},
   "outputs": [],
   "source": [
    "# Read US Census CSV file\n",
    "us_detail = pd.read_csv(permit_csv)\n",
    "#us_detail.dtypes"
   ]
  },
  {
   "cell_type": "code",
   "execution_count": 4,
   "id": "e34928da-a358-4937-bef3-b5bfd9705568",
   "metadata": {},
   "outputs": [],
   "source": [
    "# Convert US data to dataframe\n",
    "us_df = us_detail.filter(['Year','1'])\n",
    "us_df['1'] = round(us_df['1']).astype(int)\n",
    "us_df.rename(columns={'1': 'US'}, inplace=True)\n",
    "#us_df"
   ]
  },
  {
   "cell_type": "code",
   "execution_count": 5,
   "id": "a3d320ff-6a29-4a1e-9945-20e3766d77c4",
   "metadata": {},
   "outputs": [],
   "source": [
    " executable_path = {'executable_path': 'chromedriver.exe'}\n",
    " browser = Browser('chrome', **executable_path, headless=False)"
   ]
  },
  {
   "cell_type": "code",
   "execution_count": 6,
   "id": "f78e9a9a-8214-4453-b042-3bf40396d6be",
   "metadata": {},
   "outputs": [],
   "source": [
    "# Texas permit data\n",
    "texas_url = 'https://www.recenter.tamu.edu/data/building-permits#!/state/Texas'\n",
    "browser.visit(texas_url)\n",
    "html = browser.html\n",
    "soup = BeautifulSoup(html,'html.parser')"
   ]
  },
  {
   "cell_type": "code",
   "execution_count": 7,
   "id": "959fe7f0-0315-4c4e-902f-72941453a4ff",
   "metadata": {},
   "outputs": [],
   "source": [
    "# Extract Texas Year and Unit Data\n",
    "tx_year = []\n",
    "for item in soup.findAll(\"tr\", {\"class\": \"ng-scope\"}):\n",
    "    for td in item.findAll(\"td\")[0]:\n",
    "        tx_year.append(td)\n",
    "tx_units = []\n",
    "for item in soup.findAll(\"tr\", {\"class\": \"ng-scope\"}):\n",
    "    for td in item.findAll(\"td\")[1]:\n",
    "        tx_units.append(td)"
   ]
  },
  {
   "cell_type": "code",
   "execution_count": 8,
   "id": "9b80af99-71c9-486d-ac5f-0593174520be",
   "metadata": {},
   "outputs": [],
   "source": [
    "year_df = pd.DataFrame(tx_year).head(42).reset_index(drop=True)\n",
    "units_df = pd.DataFrame(tx_units).head(42).reset_index(drop=True)"
   ]
  },
  {
   "cell_type": "code",
   "execution_count": 9,
   "id": "e3cb08ae-3997-4196-970c-8e07084863ca",
   "metadata": {
    "tags": []
   },
   "outputs": [],
   "source": [
    "tx_df = pd.concat([year_df, units_df], axis = 1)\n",
    "tx_df.columns = ['Year', 'Texas']\n",
    "tx_df['Texas'] = tx_df['Texas'].str.replace(',','')\n",
    "tx_df = tx_df.astype({'Year':'int','Texas':'int'})\n",
    "#tx_df.dtypes\n",
    "#tx_df"
   ]
  },
  {
   "cell_type": "code",
   "execution_count": 10,
   "id": "f3c5f524-259e-4070-b902-017df83fda8b",
   "metadata": {},
   "outputs": [],
   "source": [
    "conn = 'mongodb://localhost:27017'\n",
    "client = pymongo.MongoClient(conn)\n",
    "\n",
    "# Declare the database\n",
    "db = client.permits_db\n",
    "\n",
    "# Declare the collections\n",
    "us_col = db.us_col\n",
    "tx_col = db.tx_col"
   ]
  },
  {
   "cell_type": "code",
   "execution_count": 11,
   "id": "0a0e8e3d-c8f0-4094-9d8c-9a6290b79093",
   "metadata": {},
   "outputs": [],
   "source": [
    "us_df.reset_index(inplace=True)\n",
    "us_data_dict = us_df.to_dict(\"records\")\n",
    "tx_df.reset_index(inplace=True)\n",
    "tx_data_dict = tx_df.to_dict(\"records\")"
   ]
  },
  {
   "cell_type": "code",
   "execution_count": 12,
   "id": "e3e83d5f-d079-4fd7-87ce-93cbf9d4893a",
   "metadata": {},
   "outputs": [
    {
     "data": {
      "text/plain": [
       "<pymongo.results.InsertManyResult at 0x14596de72e0>"
      ]
     },
     "execution_count": 12,
     "metadata": {},
     "output_type": "execute_result"
    }
   ],
   "source": [
    "us_col.insert_many(us_data_dict)\n",
    "tx_col.insert_many(us_data_dict)"
   ]
  },
  {
   "cell_type": "code",
   "execution_count": null,
   "id": "e3828412-d4bc-4745-8b0c-dc4003d3cbb8",
   "metadata": {},
   "outputs": [],
   "source": []
  }
 ],
 "metadata": {
  "kernelspec": {
   "display_name": "Python 3 (ipykernel)",
   "language": "python",
   "name": "python3"
  },
  "language_info": {
   "codemirror_mode": {
    "name": "ipython",
    "version": 3
   },
   "file_extension": ".py",
   "mimetype": "text/x-python",
   "name": "python",
   "nbconvert_exporter": "python",
   "pygments_lexer": "ipython3",
   "version": "3.9.12"
  }
 },
 "nbformat": 4,
 "nbformat_minor": 5
}
